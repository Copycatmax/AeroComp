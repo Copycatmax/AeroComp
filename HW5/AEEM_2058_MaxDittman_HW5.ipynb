{
 "cells": [
  {
   "cell_type": "code",
   "execution_count": 1,
   "id": "bd926a75-30e2-4bfb-8fef-652af5a2fcc8",
   "metadata": {},
   "outputs": [],
   "source": [
    "import numpy as np\n",
    "import sympy as sp\n",
    "import sys"
   ]
  },
  {
   "cell_type": "markdown",
   "id": "cce0e5b3-96ff-4259-8f18-8f61cfe75913",
   "metadata": {},
   "source": [
    "1. ### Import libraries from the textbook"
   ]
  },
  {
   "cell_type": "code",
   "execution_count": 2,
   "id": "90b1e17a-0803-4050-8748-20a28c6bc2b7",
   "metadata": {},
   "outputs": [],
   "source": [
    "import aeromod as mod"
   ]
  },
  {
   "cell_type": "markdown",
   "id": "9006e4f4-ed15-47e9-a19d-c5daa9069209",
   "metadata": {},
   "source": [
    "2. ### Relation Equation with KWARG's"
   ]
  },
  {
   "cell_type": "code",
   "execution_count": 3,
   "id": "3f5bdfc5-20d2-4806-abbf-b8c55cd1be23",
   "metadata": {},
   "outputs": [
    {
     "name": "stdout",
     "output_type": "stream",
     "text": [
      "Beta is: 38.44\n",
      "Theta is: 5.00\n",
      "Mach is: 1.80\n"
     ]
    }
   ],
   "source": [
    "def thetabetaM(mach=None, theta=None, beta=None, gamma=None):\n",
    "\n",
    "    # mach unknown\n",
    "    if(mach==None and theta!=None and beta!=None):\n",
    "        beta = np.radians(beta)\n",
    "        theta = np.radians(theta)\n",
    "\n",
    "        def f(x): \n",
    "            return 2/np.tan(beta)*(x**2*np.sin(beta)**2 - 1)/(x**2*(gamma + np.cos(2*beta)) + 2) - np.tan(theta)\n",
    "        def deriv_f(x): \n",
    "            return 2*(4*x*np.sin(beta)**2 + 2*x*np.cos(2*beta) + 2*x*gamma)/(np.tan(beta)*(x**2*(gamma + np.cos(2*beta)) + 2)**2)\n",
    "        \n",
    "        a, b = mod.rootsearch(f, 0.01, 10., 0.1)\n",
    "        mach = mod.newtonRaphson(f, deriv_f, a, b)\n",
    "        return mach\n",
    "    \n",
    "    # Theta unknown\n",
    "    if(mach!=None and theta==None and beta!=None):\n",
    "        beta = np.radians(beta)\n",
    "        \n",
    "        def f(x): \n",
    "            return 2/np.tan(beta)*(mach**2*np.sin(beta)**2 - 1)/(mach**2*(gamma + np.cos(2*beta)) + 2) - np.tan(x)\n",
    "        def deriv_f(x): \n",
    "            return -(1/np.cos(x))**2\n",
    "\n",
    "        a, b = mod.rootsearch(f, np.radians(0.1), np.radians(91), np.radians(0.5))\n",
    "        theta = mod.newtonRaphson(f, deriv_f, a, b)\n",
    "        return np.degrees(theta)\n",
    "    \n",
    "    # Beta unknown\n",
    "    if(mach!=None and theta!=None and beta==None):\n",
    "\n",
    "        theta = np.radians(theta)\n",
    "\n",
    "        def f(x): \n",
    "            return 2/(np.tan(x))*(mach**2*np.sin(x)**2 - 1)/(mach**2*(gamma + np.cos(2*x)) + 2) - np.tan(theta)\n",
    "        def deriv_f(x): \n",
    "            return 2*(-(1/np.sin(x))**2*(mach**2*np.sin(x)**2 - 1)/(mach**2*(gamma + np.cos(2*x))+2) + (2*mach**4*np.sin(x)**2*np.sin(2*x)                  + mach**4*np.sin(2*x)*np.cos(2*x) + mach**4*gamma*np.sin(2*x))/(np.tan(x)*(mach**2*(gamma + np.cos(2*x)) + 2)**2))\n",
    "        \n",
    "        a, b = mod.rootsearch(f, np.radians(0.1), np.radians(91), np.radians(0.5))\n",
    "        beta = mod.newtonRaphson(f, deriv_f, a, b)\n",
    "        return np.degrees(beta)\n",
    "    \n",
    "    else:\n",
    "        ('Failed. Ensure you entered variables in correct order.')\n",
    "    return\n",
    "\n",
    "beta = thetabetaM(mach=1.8, theta=5., beta=None, gamma=1.4)\n",
    "theta = thetabetaM(mach=1.8, theta=None, beta=beta, gamma=1.4)\n",
    "mach = thetabetaM(mach=None, theta=theta, beta=beta, gamma=1.4)\n",
    "\n",
    "print(\"Beta is: {:.2f}\".format(beta.round(2)))\n",
    "print(\"Theta is: {:.2f}\".format(theta.round(2)))\n",
    "print(\"Mach is: {:.2f}\".format(mach.round(2)))"
   ]
  },
  {
   "cell_type": "markdown",
   "id": "7f0ea426-3b32-4c4a-bcab-373edc537f16",
   "metadata": {},
   "source": [
    "3. ### Text Problem Set 4.1 number 19"
   ]
  },
  {
   "cell_type": "code",
   "execution_count": 4,
   "id": "17f99fca-1e62-438b-8540-eabb6f3185b2",
   "metadata": {},
   "outputs": [
    {
     "name": "stdout",
     "output_type": "stream",
     "text": [
      "The time to reach 335 m/s is 70.88 seconds.\n"
     ]
    }
   ],
   "source": [
    "def f(x): \n",
    "    return (2510)*np.log(2800000/(2800000 - 13300*x)) - 9.81*x - 335\n",
    "a, b = mod.rootsearch(f, 0, 100, 0.5)\n",
    "t = mod.bisection(f, a, b)\n",
    "print(\"The time to reach 335 m/s is {:.2f} seconds.\".format(t))"
   ]
  },
  {
   "cell_type": "markdown",
   "id": "571288f0-28b9-4c03-aed0-5010b730e9b0",
   "metadata": {},
   "source": [
    "4. ### Text Problem Set 4.2 numbers 3 & 10"
   ]
  },
  {
   "cell_type": "code",
   "execution_count": 5,
   "id": "f0aade07-1bec-40fd-bd6e-44c7aee08772",
   "metadata": {},
   "outputs": [
    {
     "name": "stdout",
     "output_type": "stream",
     "text": [
      "The roots are: [6.-1.j 6.-0.j 6.+0.j 6.+0.j 6.+1.j]\n"
     ]
    }
   ],
   "source": [
    "coeffs = np.array([-7992, 6588, -2178, 361, -30, 1])\n",
    "root = mod.polyRoots(coeffs)\n",
    "root = np.transpose(root)\n",
    "print(\"The roots are:\", root.round(1))"
   ]
  },
  {
   "cell_type": "code",
   "execution_count": 6,
   "id": "61e21906-068f-42cb-823d-d9fc99e33149",
   "metadata": {},
   "outputs": [
    {
     "name": "stdout",
     "output_type": "stream",
     "text": [
      "The delfated coefficients are: [1332 -876  217  -24    1]\n"
     ]
    }
   ],
   "source": [
    "defcoeffs = mod.deflPoly(coeffs, 6)\n",
    "defcoeffs = np.transpose(defcoeffs)\n",
    "print(\"The delfated coefficients are:\", defcoeffs)"
   ]
  },
  {
   "cell_type": "code",
   "execution_count": 7,
   "id": "46b1b138-a85d-4250-a67f-c28aac85e5db",
   "metadata": {},
   "outputs": [
    {
     "name": "stdout",
     "output_type": "stream",
     "text": [
      "The roots are: [ 1.1+0.j -0. -1.j -0. +1.j -3.2+0.j]\n"
     ]
    }
   ],
   "source": [
    "coeffs = np.array([-3.52, 2.1, -2.52, 2.1, 1])\n",
    "root = mod.polyRoots(coeffs)\n",
    "root = np.transpose(root)\n",
    "print(\"The roots are:\", root.round(1))"
   ]
  },
  {
   "cell_type": "markdown",
   "id": "c48a5f71-7758-4ac9-b1b5-32a08b191ba2",
   "metadata": {},
   "source": [
    "5. ### In-Class Example"
   ]
  },
  {
   "cell_type": "raw",
   "id": "7cfe02c6-4738-44db-bb68-62dc189c7e13",
   "metadata": {},
   "source": [
    "import os\n",
    "print(os.getcwd())\n",
    "\n",
    "#This is a simple test of keyword arguments\n",
    "#We define a function that will identify which kwargs that are supplied and print them out\n",
    "def orkkwargtest(**kwargs):\n",
    "    #we first want to define and collect the kwards taht came in\n",
    "    Mach = kwargs['Mach']\n",
    "    theta = kwargs['theta']\n",
    "    beta = kwargs['beta']\n",
    "    #Now decide which ones were sent down\n",
    "    ######################################\n",
    "    #           Mach unknown             #\n",
    "    ######################################\n",
    "    if(Mach == None and theta != None and beta != None):\n",
    "        print('theta, beta = ', theta, beta)\n",
    "        print('You need to calculate Mach')\n",
    "        return\n",
    "    ######################################\n",
    "    #           Theta unknown            #\n",
    "    ######################################\n",
    "    if(Mach != None and theta == None and beta != None):\n",
    "        print('Mach, beta = ', Mach, beta)\n",
    "        print('You need to calculate theta')\n",
    "        return\n",
    "    ######################################\n",
    "    #           Beta unknown             #\n",
    "    ######################################\n",
    "    if(Mach != None and theta != None and beta == None):\n",
    "        print('theta, Mach = ', theta, Mach)\n",
    "        print('You need to calculate beta')\n",
    "        return\n",
    "\n",
    "#main code\n",
    "orkkwargtest(Mach = 2.5, theta = None, beta = 35.0)"
   ]
  },
  {
   "cell_type": "raw",
   "id": "6f56e3fe-1384-44a6-b4eb-d56e75958bf1",
   "metadata": {},
   "source": [
    "def kwargstest(**kwargs):\n",
    "    Mach = kwargs['Mach']\n",
    "    theta = kwargs['theta']\n",
    "    beta = kwargs['beta']\n",
    "    g = kwargs['gamma']\n",
    "\n",
    "    t = sp.symbols('t')\n",
    "    b = sp.symbols('b')\n",
    "    M = sp.symbols('M')\n",
    "    \n",
    "    eq = sp.tan(theta) - (2 * sp.cot(beta)) * (((Mach ** 2.0) * (sp.sign(beta) ** 2.0)) - 1.0)/((Mach ** 2.0) * (gamma + sp.cos(2*beta) + 2))\n",
    "\n",
    "    if(Mach == None and Theta != None and beta != None):\n",
    "        theta = np.radians(theta)\n",
    "        beta = np.radians(beta)\n",
    "        fx = eq.subs(t,theta).subs(b, beta)\n",
    "        var = M\n",
    "        dfNU = sp.diff(fx, var)\n",
    "        fx = sp.lambdify(var, fx)\n",
    "        df = sp.lambdify(var, dfNU)\n",
    "        a, b1 = mod.rootsearch(fx, 0.0, np.pi/2, 0.01)\n",
    "\n",
    "    elif(Mach != None and Theta == None and beta != None):\n",
    "        beta = np.radians(beta)\n",
    "        fx = eq.subs(t,theta).subs(M, Mach)\n",
    "        var = t\n",
    "\n",
    "    elif(Mach != None and Theta != None and beta == None):\n",
    "        theta = np.radians(theta)\n",
    "        fx = eq.subs(b,beta).subs(M, Mach)\n",
    "        var = b\n",
    "\n",
    "    if Mach == None:\n",
    "        rt1 = mod.newtonRaphson(fx, df, 0, 1000)\n",
    "        rt2 = None\n",
    "    elif beta == None:\n",
    "        rt1 = mod.newtonRaphson(fx, df, a, b1)\n",
    "        rt2 = mod.newtonRaphson(fx, df, np.pi/2, b1)\n",
    "        if rt1 != None:\n",
    "            rt1 = np.degrees(rt1)\n",
    "        if rt2 != None:\n",
    "            rt2 = np.degrees(rt2)\n",
    "    elif theta == None:\n",
    "        rt1 = mod.newtonRaphson(fx, df, a, b1)\n",
    "        rt2 = None\n",
    "        if rt1 != None:\n",
    "            rt1 = np.degrees(rt1)\n",
    "        if rt2 != None:\n",
    "            rt2 = np.degrees(rt2)\n",
    "            \n",
    "    return rt1, rt2\n",
    "\n",
    "#beta = kwargstest(Mach=2., theta=20., beta=None, gamma=1.4)\n",
    "beta = kwargstest(beta)\n",
    "#theta = kwargstest(Mach=2., theta=None, beta=beta, gamma=1.4)\n",
    "#mach = kwargstest(Mach=None, theta=theta, beta=beta, gamma=1.4)\n",
    "print(\"Beta = {:.5f}\".format(beta))\n",
    "#print(\"Theta = {:.5f}\".format(theta))\n",
    "#print(\"Mach = {:.5f}\".format(mach))"
   ]
  }
 ],
 "metadata": {
  "kernelspec": {
   "display_name": "Python 3 (ipykernel)",
   "language": "python",
   "name": "python3"
  },
  "language_info": {
   "codemirror_mode": {
    "name": "ipython",
    "version": 3
   },
   "file_extension": ".py",
   "mimetype": "text/x-python",
   "name": "python",
   "nbconvert_exporter": "python",
   "pygments_lexer": "ipython3",
   "version": "3.11.5"
  }
 },
 "nbformat": 4,
 "nbformat_minor": 5
}
