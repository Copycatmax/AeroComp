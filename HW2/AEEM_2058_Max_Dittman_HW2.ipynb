{
 "cells": [
  {
   "cell_type": "markdown",
   "id": "5b9f1573-7654-458e-89bf-f847bbdf9912",
   "metadata": {},
   "source": [
    "The provided Python code performs various operations related to linear algebra, focusing on methods like Cramer's rule, Gaussian elimination with pivoting (Gauss Pivot), and LU decomposition with pivoting (LU Pivot). It starts by importing necessary libraries and a custom module named aeromod that presumably contains implementations of the mentioned linear algebra methods. \n",
    "\r\n",
    "The matrix_compare function compares the solutions obtained by Cramer's rule, Gauss Pivot, and LU Pivot for a given system of linear equations. It calculates the execution time and residual accuracy for each meth T\r\n",
    "\r\n",
    "The code then defines several matrices (a1 to a4) and corresponding vectors (b1 to b4) of varying sizes. It applies the matrix_compare function to each pair of matrices and vectors, storing the results in lists. The performance comparison table summarizes the accuracy of each method for different matrix sizes (3x3, 7x7, 9x9, 11 1).\r\n",
    "\r\n",
    "Finally, the code includes a plot showing the computational time for each method with different matrix sizes. Additionally, it demonstrates the calculation of the identity matrix and the inverse matrix for a specific 4x4 matrix."
   ]
  },
  {
   "cell_type": "markdown",
   "id": "310993aa-bed4-4873-808d-31dfdfe3785c",
   "metadata": {},
   "source": [
    "### Part 1 and 2:"
   ]
  },
  {
   "cell_type": "code",
   "execution_count": 1,
   "id": "58ec0630-052b-4744-aa18-d1049167ab44",
   "metadata": {},
   "outputs": [],
   "source": [
    "#import libraries and primary module with cramer's rule, swap, error, gaussPivot, and LUPivot\n",
    "import numpy as np\n",
    "import matplotlib.pyplot as plt\n",
    "import time\n",
    "import pandas as pd\n",
    "import aeromod as mod"
   ]
  },
  {
   "cell_type": "code",
   "execution_count": 2,
   "id": "32a8c075-52d7-427f-b4c4-fff580fc0933",
   "metadata": {},
   "outputs": [],
   "source": [
    "#This function is the main calculation of the code. This calculates the cramer, LUpivot, and gausspivot of an a, b matrix pair.\n",
    "#This function also calculates the time each takes to run as well as the accuracy or residual of the calcuation.\n",
    "def matrix_compare(a,b):\n",
    "    #cramer's rule\n",
    "    timerStart = time.perf_counter() #Begin Timer\n",
    "    cramer = mod.cramer(a.copy(), b.copy())\n",
    "    timerEnd = time.perf_counter() #End timer\n",
    "    cramerTime = timerEnd - timerStart #Calculates the difference on each system\n",
    "    \n",
    "    #LUPivot\n",
    "    timerStart = time.perf_counter() #Begin Timer\n",
    "    LUDecomp = mod.LUdecomp(a.copy())\n",
    "    LUa, seq = LUDecomp\n",
    "    LUsolve = mod.LUsolve(LUa.copy(), b.copy(), seq.copy())\n",
    "    timerEnd = time.perf_counter() #End timer\n",
    "    LUTime= timerEnd - timerStart #Calculates the difference on each system\n",
    "    \n",
    "    #gauss pivot\n",
    "    timerStart = time.perf_counter() #Begin Timer\n",
    "    gauss = mod.gaussPivot(a.copy(), b.copy())\n",
    "    timerEnd = time.perf_counter() #End timer\n",
    "    gaussTime= timerEnd - timerStart #Calculates the difference on each system\n",
    "\n",
    "    #residuals: calculates the accuracy of each method by taking the dot product of the original solution and the solution to obtain a b-matrix. \n",
    "    #It then takes the product of the calculated b matrix and finds the difference with the real b matrix. Ideally it would be approaching or is zero. \n",
    "    #cramer residual\n",
    "    x1 = np.zeros((len(b),1))\n",
    "    x1 = np.dot(np.copy(a), cramer)\n",
    "    cramer_acc = np.linalg.norm(x1 - np.copy(b))\n",
    "    #LU residual\n",
    "    x2 = np.zeros((len(b),1))\n",
    "    x2 = np.dot(np.copy(a), LUsolve)\n",
    "    LU_acc = np.linalg.norm(x2 - np.copy(b))\n",
    "    #gauss residual\n",
    "    x3 = np.zeros((len(b),1))\n",
    "    x3 = np.dot(np.copy(a), gauss)\n",
    "    gauss_acc = np.linalg.norm(x3 - np.copy(b))\n",
    "\n",
    "    #returns all the values calculated in the function\n",
    "    return cramer, gauss, LUsolve, cramerTime, gaussTime, LUTime, cramer_acc, gauss_acc, LU_acc"
   ]
  },
  {
   "cell_type": "code",
   "execution_count": 3,
   "id": "98fd1f57-5636-4a3c-a6e6-0c3d102f41be",
   "metadata": {},
   "outputs": [],
   "source": [
    "#function that calculates the inverse matrix\n",
    "def inverse_matrix(a):\n",
    "    n = len(a[0])\n",
    "    aInv = np.identity(n)\n",
    "    a, seq = mod.LUdecomp(a.copy())\n",
    "    for i in range(n):\n",
    "        aInv[:, i] = mod.LUsolve(a.copy(), aInv[:, i], seq)\n",
    "    return aInv"
   ]
  },
  {
   "cell_type": "markdown",
   "id": "4930d3d0-16e8-4525-b04b-1af443cbcfb3",
   "metadata": {},
   "source": [
    "### Part 3:"
   ]
  },
  {
   "cell_type": "code",
   "execution_count": 4,
   "id": "43219c46-91c9-4652-af9b-1ac1a1eda0e1",
   "metadata": {},
   "outputs": [],
   "source": [
    "#Given a b matrix in the textbook and specified in the assignment\n",
    "a = np.array([[10, -2, -1, 2, 3, 1, -4, 7],\n",
    "            [5, 11, 3, 10, -3, 3, 3, -4],\n",
    "            [7, 12, 1, 5, 3, -12, 2, 3],\n",
    "            [8, 7, -2, 1, 3, 2, 2, 4],\n",
    "            [2, -15, -1, 1, 4, -1, 8, 3],\n",
    "            [4, 2, 9, 1, 12, -1, 4, 1],\n",
    "            [-1, 4, -7, -1, 1, 1, -1, -3],\n",
    "            [-1, 3, 4, 1, 3, -4, 7, 6]], dtype=\"float64\")\n",
    "b = np.array([[0], [24], [-10], [6], [-50], [-52], [18], [-14]], dtype=\"float64\")"
   ]
  },
  {
   "cell_type": "code",
   "execution_count": 5,
   "id": "2414d5f8-d460-4dbc-8c73-85261077e4bb",
   "metadata": {},
   "outputs": [
    {
     "name": "stdout",
     "output_type": "stream",
     "text": [
      "  Method                                                     Solution\n",
      "  Cramer [[-2.0], [2.0], [-2.0], [2.0], [-2.0], [2.0], [-2.0], [2.0]]\n",
      "LU Pivot [[-2.0], [2.0], [-2.0], [2.0], [-2.0], [2.0], [-2.0], [2.0]]\n",
      "   Gauss [[-2.0], [2.0], [-2.0], [2.0], [-2.0], [2.0], [-2.0], [2.0]]\n",
      "\n",
      "  Method     Residual     Time\n",
      "  Cramer 1.530144e-13 0.000485\n",
      "LU Pivot 2.467794e-14 0.000591\n",
      "   Gauss 2.139017e-14 0.001238\n"
     ]
    }
   ],
   "source": [
    "#calls prior function to calculated the a b matrix definied above\n",
    "cramer, gauss, LUsolve, cramerTime, gaussTime, LUTime, cramer_acc, gauss_acc, LU_acc = matrix_compare(a,b)\n",
    "\n",
    "#stores returned values into a panda dataframe to be used in a table later. \n",
    "solutions = {\"Method\": [\"Cramer\", \"LU Pivot\", \"Gauss\"],\n",
    "            \"Solution\": [cramer.round(2), LUsolve.round(2), gauss.round(2)]}\n",
    "df_solutions = pd.DataFrame(solutions)\n",
    "#removes the header and number column in the panda datafrome for easier reading\n",
    "print(df_solutions.to_string(index=False)+\"\\n\")\n",
    "\n",
    "#second table and dataframe for comparing the residuals and time of each method. \n",
    "preformance_metrics_table = {\"Method\": [\"Cramer\", \"LU Pivot\", \"Gauss\"], \"Residual\": [cramer_acc, LU_acc,gauss_acc], \"Time\":[cramerTime, LUTime, gaussTime]}\n",
    "df_preformance_metrics_table = pd.DataFrame(preformance_metrics_table)\n",
    "print(df_preformance_metrics_table.to_string(index=False))"
   ]
  },
  {
   "cell_type": "markdown",
   "id": "3f26534e-b7db-4884-b39e-23f1d77eb984",
   "metadata": {},
   "source": [
    "### Part 4:"
   ]
  },
  {
   "cell_type": "code",
   "execution_count": 6,
   "id": "6fc886e9-1515-4eb3-98a6-f20bda1d9c6b",
   "metadata": {},
   "outputs": [],
   "source": [
    "#[a] Maxtricies - self generated and confirmed to be non-singular\n",
    "a1 = np.array([[5, 6, 2],\n",
    "               [0, 7, 8],\n",
    "               [6, 8, 6]], dtype=\"float64\")\n",
    "a2 = np.array([[4, 5, -5, 7, 2, 1, 6],\n",
    "               [6, -8, 1, 4, 7, 2, -3],\n",
    "               [7, 4, -7, 4, 1, 6, -9],\n",
    "               [7, 2, 4, 7, 3, 1, -7],\n",
    "               [6, -7, 5, -5, 4, 1, -2],\n",
    "               [8, 9, 2, 4, 6, -5, 7],\n",
    "               [8, -4, 2, -1, 3, -6, 6]], dtype=\"float64\")\n",
    "a3 = np.array([[4, 5, -5, 7, 2, 1, 6, 8, 4],\n",
    "               [6, -8, 1, 4, 7, 2, -3, -3, 5],\n",
    "               [7, 4, -7, 4, 1, 6, -9, -5, 9],\n",
    "               [7, 2, 4, 7, 3, 1, -7, 1, 9],\n",
    "               [6, -7, 5, -5, 4, 1, -2, 2, -4],\n",
    "               [8, 9, 2, 4, 6, -5, 7, 3, 8],\n",
    "               [8, -4, 2, -1, 3, -6, 6, 6, 0],\n",
    "               [3, 4, -6, 3, -9, 5, 4, 1, -1],\n",
    "               [9, 5, -4, 2, -1, 3, 4, -4, 7]], dtype=\"float64\")\n",
    "a4 = np.array([[4, 5, -5, 7, 2, 1, 6, 8, 4, 8, 3],\n",
    "               [6, -8, 1, 4, 7, 2, -3, -3, 5, 5, 8],\n",
    "               [7, 4, -7, 4, 1, 6, -9, -5, 9, 4, -5],\n",
    "               [7, 2, 4, 7, 3, 1, -7, 1, 9, 7, 4],\n",
    "               [6, -7, 5, -5, 4, 1, -2, 2, -4, -8, 6],\n",
    "               [8, 9, 2, 4, 6, -5, 7, 3, 8, 9, 6],\n",
    "               [8, -4, 2, -1, 3, -6, 6, 6, 0, -3, 7],\n",
    "               [3, 4, -6, 3, -9, 5, 4, 1, -1, 5, 9],\n",
    "               [9, 5, -4, 2, -1, 3, 4, -4, 7, 4, 2],\n",
    "               [3, 4, -7, 5, -8, 3, 5, -3, 9, -3, 2],\n",
    "               [5, 3, -6, 7, 3, 2, -4, -2, 9, 9, 7]], dtype=\"float64\")\n",
    "\n",
    "#[b] Matricies - self generated and confirmed to be non-singular\n",
    "b1 = np.array([[2], [3], [4]], dtype=\"float64\")\n",
    "b2 = np.array([[2], [3], [4], [5], [6], [7], [8]], dtype=\"float64\")\n",
    "b3 = np.array([[2], [3], [4], [5], [6], [7], [8], [9], [10]], dtype=\"float64\")\n",
    "b4 = np.array([[2], [3], [4], [5], [6], [7], [8], [9], [10], [11], [12]], dtype=\"float64\")"
   ]
  },
  {
   "cell_type": "code",
   "execution_count": 7,
   "id": "041d24c5-6acb-4ea7-926d-e8ba5afe1b94",
   "metadata": {},
   "outputs": [
    {
     "name": "stdout",
     "output_type": "stream",
     "text": [
      "Matrix Size  Gauss Accuracy  LU Accuracy  Cramer Accuracy\n",
      "          3    0.000000e+00 8.881784e-16     1.489520e-15\n",
      "          7    1.776357e-15 2.878027e-15     3.118126e-14\n",
      "          9    5.402578e-15 3.794300e-15     5.908890e-14\n",
      "         11    6.275344e-14 6.961869e-14     5.646915e-13\n"
     ]
    }
   ],
   "source": [
    "#stores generated matricies in to a list that can be used in the for loop\n",
    "matrix_sets = [(a1, b1), (a2, b2), (a3, b3), (a4, b4)]\n",
    "#initlaizes all lists that the data will be stored in and later ouputted in dataframes\n",
    "cramerList = []\n",
    "gaussList = []\n",
    "LUsolveList = []\n",
    "cramerTimeList = []\n",
    "gaussTimeList = []\n",
    "LUTimeList = []\n",
    "cramer_accList = []\n",
    "gauss_accList = []\n",
    "LU_accList = []\n",
    "\n",
    "#a for loop that runs through all the a and b matricies and calculate the solutions, residuals, and times.\n",
    "for a, b in matrix_sets:\n",
    "    cramer, gauss, LUsolve, cramerTime, gaussTime, LUTime, cramer_acc, gauss_acc, LU_acc = matrix_compare(a, b)\n",
    "\n",
    "    #appends the returned data into respective lists for printing to the dataframe\n",
    "    cramerList.append(cramer)\n",
    "    gaussList.append(gauss)\n",
    "    LUsolveList.append(LUsolve)\n",
    "    cramerTimeList.append(cramerTime)\n",
    "    gaussTimeList.append(gaussTime)\n",
    "    LUTimeList.append(LUTime)\n",
    "    cramer_accList.append(cramer_acc)\n",
    "    gauss_accList.append(gauss_acc)\n",
    "    LU_accList.append(LU_acc)\n",
    "\n",
    "#dataframe that stores and formats lists results on the accuracy of each one.\n",
    "preformance_comparison = {\"Matrix Size\": [\"3\", \"7\", \"9\", \"11\"],\n",
    "        \"Gauss Accuracy\": [gauss_accList[0], gauss_accList[1], gauss_accList[2], gauss_accList[3]],\n",
    "        \"LU Accuracy\": [LU_accList[0], LU_accList[1], LU_accList[2], LU_accList[3]],\n",
    "        \"Cramer Accuracy\": [cramer_accList[0], cramer_accList[1], cramer_accList[2], cramer_accList[3]]}\n",
    "preformance_comparison_table = pd.DataFrame(preformance_comparison)\n",
    "print(preformance_comparison_table.to_string(index=False))"
   ]
  },
  {
   "cell_type": "code",
   "execution_count": 8,
   "id": "3ce43835-0373-46a0-b15d-590e07047d68",
   "metadata": {
    "scrolled": true
   },
   "outputs": [
    {
     "data": {
      "image/png": "[encoded data removed]",
      "text/plain": [
       "<Figure size 640x480 with 1 Axes>"
      ]
     },
     "metadata": {},
     "output_type": "display_data"
    }
   ],
   "source": [
    "#Defines matrix sizes and formats into the same geometry of the appened lists so it can be plotted using matplotlib. \n",
    "matrix_size = [3, 7, 9, 11]\n",
    "plt.plot(matrix_size, gaussTimeList, label=\"Gauss Pivot\")\n",
    "plt.plot(matrix_size, LUTimeList, label=\"LU Pivot\")\n",
    "plt.plot(matrix_size, cramerTimeList, label=\"Cramer Method\")\n",
    "\n",
    "#gives titles and defines chart for user understanding\n",
    "plt.title(\"Performance of Method\")\n",
    "plt.xlabel(\"Matrix Size (nxn)\")\n",
    "plt.ylabel(\"Compute Time (s)\")\n",
    "plt.legend(loc=\"upper left\")\n",
    "#prints the plot below\n",
    "plt.show()"
   ]
  },
  {
   "cell_type": "markdown",
   "id": "7f921e23-4683-4f58-af49-f51fbae8dcde",
   "metadata": {},
   "source": [
    "### Part 5:"
   ]
  },
  {
   "cell_type": "code",
   "execution_count": 9,
   "id": "ca94db8a-97f0-448d-bf10-ad0960c5dc58",
   "metadata": {},
   "outputs": [
    {
     "name": "stdout",
     "output_type": "stream",
     "text": [
      "Identity Matrix (should be close to an identity matrix):\n",
      "[[1. 0. 0. 0.]\n",
      " [0. 1. 0. 0.]\n",
      " [0. 0. 1. 0.]\n",
      " [0. 0. 0. 1.]]\n",
      "\n",
      "Original Matrix:\n",
      "[[  3.  -7.  45.  21.]\n",
      " [ 12.  11.  10.  17.]\n",
      " [  6.  25. -80. -24.]\n",
      " [ 17.  55.  -9.   7.]]\n",
      "\n",
      "Inverse Matrix:\n",
      "[[-2.73050828  1.48528059 -1.34659614 -0.0324862 ]\n",
      " [ 0.4824057  -0.27874885  0.23321067  0.02932383]\n",
      " [-0.65403634  0.32428703 -0.34061638  0.00672723]\n",
      " [ 2.         -1.          1.          0.        ]]\n"
     ]
    }
   ],
   "source": [
    "#problem defined in the textbook that needs inverted\n",
    "a = np.array([[3, -7, 45, 21],\n",
    "              [12, 11, 10, 17],\n",
    "              [6, 25, -80, -24],\n",
    "              [17, 55, -9, 7]], dtype=\"float64\")\n",
    "\n",
    "#calls above function for inverting and confirms it worked by finding the identity matrix\n",
    "identity_matrix = np.dot(inverse_matrix(a), a)\n",
    "print(\"Identity Matrix (should be close to an identity matrix):\")\n",
    "print(abs(identity_matrix.round(2)))\n",
    "\n",
    "#formats and prints the data out in an easy to read format\n",
    "a_inv = inverse_matrix(a)\n",
    "print(\"\\nOriginal Matrix:\")\n",
    "print(a)\n",
    "print(\"\\nInverse Matrix:\")\n",
    "print(a_inv)"
   ]
  }
 ],
 "metadata": {
  "kernelspec": {
   "display_name": "Python 3 (ipykernel)",
   "language": "python",
   "name": "python3"
  },
  "language_info": {
   "codemirror_mode": {
    "name": "ipython",
    "version": 3
   },
   "file_extension": ".py",
   "mimetype": "text/x-python",
   "name": "python",
   "nbconvert_exporter": "python",
   "pygments_lexer": "ipython3",
   "version": "3.11.5"
  }
 },
 "nbformat": 4,
 "nbformat_minor": 5
}
